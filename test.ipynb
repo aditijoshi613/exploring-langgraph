{
 "cells": [
  {
   "cell_type": "code",
   "execution_count": 3,
   "id": "decf1224",
   "metadata": {},
   "outputs": [
    {
     "name": "stdout",
     "output_type": "stream",
     "text": [
      "Requirement already satisfied: pandas in ./venv/lib/python3.12/site-packages (2.3.2)\n",
      "Requirement already satisfied: numpy>=1.26.0 in ./venv/lib/python3.12/site-packages (from pandas) (2.3.3)\n",
      "Requirement already satisfied: python-dateutil>=2.8.2 in ./venv/lib/python3.12/site-packages (from pandas) (2.9.0.post0)\n",
      "Requirement already satisfied: pytz>=2020.1 in ./venv/lib/python3.12/site-packages (from pandas) (2025.2)\n",
      "Requirement already satisfied: tzdata>=2022.7 in ./venv/lib/python3.12/site-packages (from pandas) (2025.2)\n",
      "Requirement already satisfied: six>=1.5 in ./venv/lib/python3.12/site-packages (from python-dateutil>=2.8.2->pandas) (1.17.0)\n",
      "\n",
      "\u001b[1m[\u001b[0m\u001b[34;49mnotice\u001b[0m\u001b[1;39;49m]\u001b[0m\u001b[39;49m A new release of pip is available: \u001b[0m\u001b[31;49m24.2\u001b[0m\u001b[39;49m -> \u001b[0m\u001b[32;49m25.2\u001b[0m\n",
      "\u001b[1m[\u001b[0m\u001b[34;49mnotice\u001b[0m\u001b[1;39;49m]\u001b[0m\u001b[39;49m To update, run: \u001b[0m\u001b[32;49mpip install --upgrade pip\u001b[0m\n"
     ]
    }
   ],
   "source": [
    "!pip install pandas"
   ]
  },
  {
   "cell_type": "code",
   "execution_count": 1,
   "id": "c947d3c6",
   "metadata": {},
   "outputs": [
    {
     "name": "stdout",
     "output_type": "stream",
     "text": [
      "Requirement already satisfied: langgraph in ./venv/lib/python3.12/site-packages (0.6.7)\n",
      "Requirement already satisfied: langchain in ./venv/lib/python3.12/site-packages (0.3.27)\n",
      "Requirement already satisfied: langchain-tavily in ./venv/lib/python3.12/site-packages (0.2.11)\n",
      "Requirement already satisfied: python-dotenv in ./venv/lib/python3.12/site-packages (1.1.1)\n",
      "Requirement already satisfied: dateparser in ./venv/lib/python3.12/site-packages (1.2.2)\n",
      "Requirement already satisfied: langchain-core>=0.1 in ./venv/lib/python3.12/site-packages (from langgraph) (0.3.75)\n",
      "Requirement already satisfied: langgraph-checkpoint<3.0.0,>=2.1.0 in ./venv/lib/python3.12/site-packages (from langgraph) (2.1.1)\n",
      "Requirement already satisfied: langgraph-prebuilt<0.7.0,>=0.6.0 in ./venv/lib/python3.12/site-packages (from langgraph) (0.6.4)\n",
      "Requirement already satisfied: langgraph-sdk<0.3.0,>=0.2.2 in ./venv/lib/python3.12/site-packages (from langgraph) (0.2.6)\n",
      "Requirement already satisfied: pydantic>=2.7.4 in ./venv/lib/python3.12/site-packages (from langgraph) (2.11.7)\n",
      "Requirement already satisfied: xxhash>=3.5.0 in ./venv/lib/python3.12/site-packages (from langgraph) (3.5.0)\n",
      "Requirement already satisfied: langchain-text-splitters<1.0.0,>=0.3.9 in ./venv/lib/python3.12/site-packages (from langchain) (0.3.11)\n",
      "Requirement already satisfied: langsmith>=0.1.17 in ./venv/lib/python3.12/site-packages (from langchain) (0.4.25)\n",
      "Requirement already satisfied: SQLAlchemy<3,>=1.4 in ./venv/lib/python3.12/site-packages (from langchain) (2.0.43)\n",
      "Requirement already satisfied: requests<3,>=2 in ./venv/lib/python3.12/site-packages (from langchain) (2.32.5)\n",
      "Requirement already satisfied: PyYAML>=5.3 in ./venv/lib/python3.12/site-packages (from langchain) (6.0.2)\n",
      "Requirement already satisfied: aiohttp<4.0.0,>=3.11.14 in ./venv/lib/python3.12/site-packages (from langchain-tavily) (3.12.15)\n",
      "Requirement already satisfied: python-dateutil>=2.7.0 in ./venv/lib/python3.12/site-packages (from dateparser) (2.9.0.post0)\n",
      "Requirement already satisfied: pytz>=2024.2 in ./venv/lib/python3.12/site-packages (from dateparser) (2025.2)\n",
      "Requirement already satisfied: regex>=2024.9.11 in ./venv/lib/python3.12/site-packages (from dateparser) (2025.9.1)\n",
      "Requirement already satisfied: tzlocal>=0.2 in ./venv/lib/python3.12/site-packages (from dateparser) (5.3.1)\n",
      "Requirement already satisfied: aiohappyeyeballs>=2.5.0 in ./venv/lib/python3.12/site-packages (from aiohttp<4.0.0,>=3.11.14->langchain-tavily) (2.6.1)\n",
      "Requirement already satisfied: aiosignal>=1.4.0 in ./venv/lib/python3.12/site-packages (from aiohttp<4.0.0,>=3.11.14->langchain-tavily) (1.4.0)\n",
      "Requirement already satisfied: attrs>=17.3.0 in ./venv/lib/python3.12/site-packages (from aiohttp<4.0.0,>=3.11.14->langchain-tavily) (25.3.0)\n",
      "Requirement already satisfied: frozenlist>=1.1.1 in ./venv/lib/python3.12/site-packages (from aiohttp<4.0.0,>=3.11.14->langchain-tavily) (1.7.0)\n",
      "Requirement already satisfied: multidict<7.0,>=4.5 in ./venv/lib/python3.12/site-packages (from aiohttp<4.0.0,>=3.11.14->langchain-tavily) (6.6.4)\n",
      "Requirement already satisfied: propcache>=0.2.0 in ./venv/lib/python3.12/site-packages (from aiohttp<4.0.0,>=3.11.14->langchain-tavily) (0.3.2)\n",
      "Requirement already satisfied: yarl<2.0,>=1.17.0 in ./venv/lib/python3.12/site-packages (from aiohttp<4.0.0,>=3.11.14->langchain-tavily) (1.20.1)\n",
      "Requirement already satisfied: tenacity!=8.4.0,<10.0.0,>=8.1.0 in ./venv/lib/python3.12/site-packages (from langchain-core>=0.1->langgraph) (9.1.2)\n",
      "Requirement already satisfied: jsonpatch<2.0,>=1.33 in ./venv/lib/python3.12/site-packages (from langchain-core>=0.1->langgraph) (1.33)\n",
      "Requirement already satisfied: typing-extensions>=4.7 in ./venv/lib/python3.12/site-packages (from langchain-core>=0.1->langgraph) (4.15.0)\n",
      "Requirement already satisfied: packaging>=23.2 in ./venv/lib/python3.12/site-packages (from langchain-core>=0.1->langgraph) (25.0)\n",
      "Requirement already satisfied: ormsgpack>=1.10.0 in ./venv/lib/python3.12/site-packages (from langgraph-checkpoint<3.0.0,>=2.1.0->langgraph) (1.10.0)\n",
      "Requirement already satisfied: httpx>=0.25.2 in ./venv/lib/python3.12/site-packages (from langgraph-sdk<0.3.0,>=0.2.2->langgraph) (0.28.1)\n",
      "Requirement already satisfied: orjson>=3.10.1 in ./venv/lib/python3.12/site-packages (from langgraph-sdk<0.3.0,>=0.2.2->langgraph) (3.11.3)\n",
      "Requirement already satisfied: requests-toolbelt>=1.0.0 in ./venv/lib/python3.12/site-packages (from langsmith>=0.1.17->langchain) (1.0.0)\n",
      "Requirement already satisfied: zstandard>=0.23.0 in ./venv/lib/python3.12/site-packages (from langsmith>=0.1.17->langchain) (0.24.0)\n",
      "Requirement already satisfied: annotated-types>=0.6.0 in ./venv/lib/python3.12/site-packages (from pydantic>=2.7.4->langgraph) (0.7.0)\n",
      "Requirement already satisfied: pydantic-core==2.33.2 in ./venv/lib/python3.12/site-packages (from pydantic>=2.7.4->langgraph) (2.33.2)\n",
      "Requirement already satisfied: typing-inspection>=0.4.0 in ./venv/lib/python3.12/site-packages (from pydantic>=2.7.4->langgraph) (0.4.1)\n",
      "Requirement already satisfied: six>=1.5 in ./venv/lib/python3.12/site-packages (from python-dateutil>=2.7.0->dateparser) (1.17.0)\n",
      "Requirement already satisfied: charset_normalizer<4,>=2 in ./venv/lib/python3.12/site-packages (from requests<3,>=2->langchain) (3.4.3)\n",
      "Requirement already satisfied: idna<4,>=2.5 in ./venv/lib/python3.12/site-packages (from requests<3,>=2->langchain) (3.10)\n",
      "Requirement already satisfied: urllib3<3,>=1.21.1 in ./venv/lib/python3.12/site-packages (from requests<3,>=2->langchain) (2.5.0)\n",
      "Requirement already satisfied: certifi>=2017.4.17 in ./venv/lib/python3.12/site-packages (from requests<3,>=2->langchain) (2025.8.3)\n",
      "Requirement already satisfied: anyio in ./venv/lib/python3.12/site-packages (from httpx>=0.25.2->langgraph-sdk<0.3.0,>=0.2.2->langgraph) (4.10.0)\n",
      "Requirement already satisfied: httpcore==1.* in ./venv/lib/python3.12/site-packages (from httpx>=0.25.2->langgraph-sdk<0.3.0,>=0.2.2->langgraph) (1.0.9)\n",
      "Requirement already satisfied: h11>=0.16 in ./venv/lib/python3.12/site-packages (from httpcore==1.*->httpx>=0.25.2->langgraph-sdk<0.3.0,>=0.2.2->langgraph) (0.16.0)\n",
      "Requirement already satisfied: jsonpointer>=1.9 in ./venv/lib/python3.12/site-packages (from jsonpatch<2.0,>=1.33->langchain-core>=0.1->langgraph) (3.0.0)\n",
      "Requirement already satisfied: sniffio>=1.1 in ./venv/lib/python3.12/site-packages (from anyio->httpx>=0.25.2->langgraph-sdk<0.3.0,>=0.2.2->langgraph) (1.3.1)\n",
      "\n",
      "\u001b[1m[\u001b[0m\u001b[34;49mnotice\u001b[0m\u001b[1;39;49m]\u001b[0m\u001b[39;49m A new release of pip is available: \u001b[0m\u001b[31;49m24.2\u001b[0m\u001b[39;49m -> \u001b[0m\u001b[32;49m25.2\u001b[0m\n",
      "\u001b[1m[\u001b[0m\u001b[34;49mnotice\u001b[0m\u001b[1;39;49m]\u001b[0m\u001b[39;49m To update, run: \u001b[0m\u001b[32;49mpip install --upgrade pip\u001b[0m\n"
     ]
    }
   ],
   "source": [
    "!pip install -U langgraph langchain langchain-tavily python-dotenv dateparser\n"
   ]
  },
  {
   "cell_type": "code",
   "execution_count": 1,
   "id": "8b6c23a3",
   "metadata": {},
   "outputs": [
    {
     "data": {
      "text/plain": [
       "True"
      ]
     },
     "execution_count": 1,
     "metadata": {},
     "output_type": "execute_result"
    }
   ],
   "source": [
    "import os\n",
    "from dotenv import load_dotenv\n",
    "load_dotenv()\n",
    "\n",
    "# Set your API keys\n",
    "# os.environ[\"OPENAI_API_KEY\"] = \"sk-...\"\n",
    "# os.environ[\"TAVILY_API_KEY\"] = \"sk-...\"\n"
   ]
  },
  {
   "cell_type": "code",
   "execution_count": 2,
   "id": "24ea2458",
   "metadata": {},
   "outputs": [],
   "source": [
    "import json\n",
    "import dateparser\n",
    "from typing import Annotated\n",
    "from typing_extensions import TypedDict\n",
    "\n",
    "from langchain_tavily import TavilySearch\n",
    "from langchain.chat_models import init_chat_model, ChatOpenAI\n",
    "from langchain.prompts import PromptTemplate\n",
    "from langgraph.graph import StateGraph, START, END\n",
    "from langgraph.graph.message import add_messages\n",
    "from langgraph.prebuilt import ToolNode\n",
    "from langchain_core.messages import ToolMessage\n"
   ]
  },
  {
   "cell_type": "code",
   "execution_count": 3,
   "id": "83f65266",
   "metadata": {},
   "outputs": [],
   "source": [
    "class State(TypedDict):\n",
    "    messages: Annotated[list, add_messages]\n",
    "    results: list  # store structured job results\n"
   ]
  },
  {
   "cell_type": "code",
   "execution_count": 4,
   "id": "cbcd681b",
   "metadata": {},
   "outputs": [],
   "source": [
    "# Initialize Tavily\n",
    "tavily_tool = TavilySearch(max_results=10)\n",
    "tools = [tavily_tool]\n",
    "\n",
    "# Initialize LLM\n",
    "llm = init_chat_model(\"openai:gpt-4.1\")\n",
    "\n",
    "# Bind tools to LLM\n",
    "llm_with_tools = llm.bind_tools(tools)\n"
   ]
  },
  {
   "cell_type": "code",
   "execution_count": 5,
   "id": "dc9efa6a",
   "metadata": {},
   "outputs": [],
   "source": [
    "def chatbot(state: State):\n",
    "    \"\"\"Main chatbot node: decides what tools to call or responds directly.\"\"\"\n",
    "    return {\"messages\": [llm_with_tools.invoke(state[\"messages\"])]}\n"
   ]
  },
  {
   "cell_type": "code",
   "execution_count": 6,
   "id": "3cf6ce3c",
   "metadata": {},
   "outputs": [],
   "source": [
    "class BasicToolNode:\n",
    "    \"\"\"Runs tools requested by the last AI message.\"\"\"\n",
    "    def __init__(self, tools: list):\n",
    "        self.tools_by_name = {tool.name: tool for tool in tools}\n",
    "\n",
    "    def __call__(self, inputs: dict):\n",
    "        if messages := inputs.get(\"messages\", []):\n",
    "            message = messages[-1]\n",
    "        else:\n",
    "            raise ValueError(\"No message found in input\")\n",
    "        outputs = []\n",
    "        for tool_call in getattr(message, \"tool_calls\", []):\n",
    "            tool_result = self.tools_by_name[tool_call[\"name\"]].invoke(tool_call[\"args\"])\n",
    "            outputs.append(\n",
    "                ToolMessage(\n",
    "                    content=json.dumps(tool_result),\n",
    "                    name=tool_call[\"name\"],\n",
    "                    tool_call_id=tool_call[\"id\"],\n",
    "                )\n",
    "            )\n",
    "        return {\"messages\": outputs}\n"
   ]
  },
  {
   "cell_type": "code",
   "execution_count": 7,
   "id": "91907a9d",
   "metadata": {},
   "outputs": [],
   "source": [
    "LOG_FILE = \"conversation_log.json\"\n",
    "from datetime import datetime \n",
    "def append_message_log(sender, message):\n",
    "    \"\"\"\n",
    "    Append a chat message to the conversation log file (JSON) with timestamp.\n",
    "    \"\"\"\n",
    "    try:\n",
    "        # Load existing conversation\n",
    "        with open(LOG_FILE, \"r\") as f:\n",
    "            conversation = json.load(f)\n",
    "    except FileNotFoundError:\n",
    "        conversation = []\n",
    "\n",
    "    # Append new message\n",
    "    conversation.append({\n",
    "        \"sender\": sender,\n",
    "        \"message\": message,\n",
    "        \"timestamp\": datetime.now().isoformat()\n",
    "    })\n",
    "\n",
    "    # Save back to file\n",
    "    with open(LOG_FILE, \"w\") as f:\n",
    "        json.dump(conversation, f, indent=2)"
   ]
  },
  {
   "cell_type": "code",
   "execution_count": 8,
   "id": "9352caac",
   "metadata": {},
   "outputs": [
    {
     "name": "stderr",
     "output_type": "stream",
     "text": [
      "USER_AGENT environment variable not set, consider setting it to identify your requests.\n"
     ]
    }
   ],
   "source": [
    "from langchain.chat_models import ChatOpenAI\n",
    "from langchain.document_loaders import WebBaseLoader\n",
    "from langchain.prompts import PromptTemplate\n",
    "import json\n",
    "import pandas as pd\n",
    "import os\n",
    "import dateparser\n",
    "import re\n",
    "\n",
    "# CSV file to store job results\n",
    "CSV_FILE = \"job_results.csv\"\n",
    "\n",
    "# Initialize CSV if it doesn't exist\n",
    "if not os.path.exists(CSV_FILE):\n",
    "    df = pd.DataFrame(columns=[\n",
    "        \"job_title\", \"region\", \"website\", \"date_posted\",\n",
    "        \"years_experience\", \"visa_sponsorship\", \"source_url\"\n",
    "    ])\n",
    "    df.to_csv(CSV_FILE, index=False)\n",
    "\n",
    "\n",
    "def append_job_to_csv(job: dict):\n",
    "    \"\"\"Append a single job to CSV.\"\"\"\n",
    "    df = pd.DataFrame([job])\n",
    "    df.to_csv(CSV_FILE, mode=\"a\", header=False, index=False)\n",
    "    print(f\"[CSV] Job saved: {job.get('job_title', 'N/A')}\")\n",
    "\n",
    "\n",
    "class ScraperNode:\n",
    "    \"\"\"Scraper node: fetch URLs, extract structured job info, save to CSV.\"\"\"\n",
    "\n",
    "    def __init__(self, user_agent: str = None):\n",
    "        self.llm = ChatOpenAI(model=\"gpt-4o-mini\")\n",
    "        self.prompt_template = PromptTemplate(\n",
    "            input_variables=[\"text\", \"url\"],\n",
    "            template=\"\"\"\n",
    "Extract job information from the following job posting text.\n",
    "Return ONLY valid JSON with the keys:\n",
    "- job_title\n",
    "- region\n",
    "- website\n",
    "- date_posted\n",
    "- years_experience\n",
    "- visa_sponsorship (True/False)\n",
    "- source_url\n",
    "\n",
    "Job Text:\n",
    "{text}\n",
    "\n",
    "Source URL:\n",
    "{url}\n",
    "\"\"\"\n",
    "        )\n",
    "        # self.user_agent = user_agent or \"Mozilla/5.0 (Windows NT 10.0; Win64; x64)\"\n",
    "\n",
    "    def __call__(self, inputs: dict):\n",
    "        messages = inputs.get(\"messages\", [])\n",
    "        new_results = []\n",
    "\n",
    "        for msg in messages:\n",
    "            if hasattr(msg, \"content\") and isinstance(msg.content, str):\n",
    "                try:\n",
    "                    tool_results = json.loads(msg.content)\n",
    "                except json.JSONDecodeError:\n",
    "                    print(\"[ERROR] Failed to parse tool output JSON:\", msg.content)\n",
    "                    continue\n",
    "\n",
    "                if isinstance(tool_results, list):\n",
    "                    for result in tool_results:\n",
    "                        url = result.get(\"url\")\n",
    "                        if url:\n",
    "                            try:\n",
    "                                # Load page\n",
    "                                loader = WebBaseLoader(url, headers={\"User-Agent\": self.user_agent})\n",
    "                                docs = loader.load()\n",
    "                                if not docs:\n",
    "                                    print(f\"[WARN] No content loaded from {url}\")\n",
    "                                    continue\n",
    "                                text = docs[0].page_content\n",
    "\n",
    "                                # Prepare prompt for LLM\n",
    "                                prompt = self.prompt_template.format(text=text, url=url)\n",
    "                                response = self.llm.invoke(prompt)\n",
    "                                print(\"[LLM RAW OUTPUT]\", response[:500])\n",
    "\n",
    "                                # Try parsing JSON safely\n",
    "                                try:\n",
    "                                    job = json.loads(response)\n",
    "                                except json.JSONDecodeError:\n",
    "                                    # Extract JSON substring if LLM added extra text\n",
    "                                    match = re.search(r\"\\{.*\\}\", response, re.DOTALL)\n",
    "                                    if match:\n",
    "                                        job = json.loads(match.group())\n",
    "                                    else:\n",
    "                                        print(\"[ERROR] Could not parse JSON from LLM response.\")\n",
    "                                        continue\n",
    "\n",
    "                                # Normalize date\n",
    "                                if job.get(\"date_posted\"):\n",
    "                                    dt = dateparser.parse(job[\"date_posted\"])\n",
    "                                    job[\"date_posted\"] = dt.date().isoformat() if dt else None\n",
    "\n",
    "                                # Save to CSV\n",
    "                                append_job_to_csv(job)\n",
    "                                new_results.append(job)\n",
    "                            except Exception as e:\n",
    "                                print(f\"[ERROR] Failed processing URL {url}: {e}\")\n",
    "                                continue\n",
    "\n",
    "        return {\"messages\": messages, \"results\": new_results}\n"
   ]
  },
  {
   "cell_type": "code",
   "execution_count": 9,
   "id": "e3c4152a",
   "metadata": {},
   "outputs": [],
   "source": [
    "def route_tools(state: State):\n",
    "    \"\"\"Route to ToolNode if the last message has tool calls, else continue to END.\"\"\"\n",
    "    if messages := state.get(\"messages\", []):\n",
    "        ai_message = messages[-1]\n",
    "        if hasattr(ai_message, \"tool_calls\") and len(ai_message.tool_calls) > 0:\n",
    "            return \"tools\"\n",
    "    return END\n"
   ]
  },
  {
   "cell_type": "code",
   "execution_count": 10,
   "id": "e350e084",
   "metadata": {},
   "outputs": [
    {
     "name": "stderr",
     "output_type": "stream",
     "text": [
      "/var/folders/z6/m56_lfz55xlcdsxdv60z5q340000gn/T/ipykernel_44279/3102686977.py:33: LangChainDeprecationWarning: The class `ChatOpenAI` was deprecated in LangChain 0.0.10 and will be removed in 1.0. An updated version of the class exists in the :class:`~langchain-openai package and should be used instead. To use it run `pip install -U :class:`~langchain-openai` and import as `from :class:`~langchain_openai import ChatOpenAI``.\n",
      "  self.llm = ChatOpenAI(model=\"gpt-4o-mini\")\n"
     ]
    }
   ],
   "source": [
    "graph_builder = StateGraph(State)\n",
    "\n",
    "# Nodes\n",
    "graph_builder.add_node(\"chatbot\", chatbot)\n",
    "tool_node = BasicToolNode(tools=tools)\n",
    "graph_builder.add_node(\"tools\", tool_node)\n",
    "scraper_node = ScraperNode()\n",
    "graph_builder.add_node(\"scraper\", scraper_node)\n",
    "\n",
    "# Conditional edges\n",
    "graph_builder.add_conditional_edges(\n",
    "    \"chatbot\",\n",
    "    route_tools,\n",
    "    {\"tools\": \"tools\", END: END},\n",
    ")\n",
    "\n",
    "# Graph flow\n",
    "graph_builder.add_edge(START, \"chatbot\")\n",
    "graph_builder.add_edge(\"tools\", \"scraper\")     # Tavily results -> scraper\n",
    "graph_builder.add_edge(\"scraper\", \"chatbot\")   # Back to chatbot\n",
    "graph = graph_builder.compile()\n"
   ]
  },
  {
   "cell_type": "code",
   "execution_count": 11,
   "id": "b6d0bc37",
   "metadata": {},
   "outputs": [
    {
     "data": {
      "image/png": "[encoded data removed]",
      "text/plain": [
       "<IPython.core.display.Image object>"
      ]
     },
     "metadata": {},
     "output_type": "display_data"
    }
   ],
   "source": [
    "from IPython.display import Image, display\n",
    "\n",
    "try:\n",
    "    display(Image(graph.get_graph().draw_mermaid_png()))\n",
    "except Exception:\n",
    "    # This requires some extra dependencies and is optional\n",
    "    pass"
   ]
  },
  {
   "cell_type": "code",
   "execution_count": null,
   "id": "28dadc47",
   "metadata": {},
   "outputs": [],
   "source": []
  },
  {
   "cell_type": "code",
   "execution_count": 12,
   "id": "4236ab29",
   "metadata": {},
   "outputs": [
    {
     "data": {
      "application/vnd.jupyter.widget-view+json": {
       "model_id": "94b150bd4a9147968f4c3d208925c128",
       "version_major": 2,
       "version_minor": 0
      },
      "text/plain": [
       "Output(layout=Layout(border_bottom='1px solid black', border_left='1px solid black', border_right='1px solid b…"
      ]
     },
     "metadata": {},
     "output_type": "display_data"
    },
    {
     "data": {
      "application/vnd.jupyter.widget-view+json": {
       "model_id": "a54a20b85d5c4d189a1a054c0aa127c7",
       "version_major": 2,
       "version_minor": 0
      },
      "text/plain": [
       "Text(value='', description='User:', layout=Layout(width='80%'), placeholder='Type your question...')"
      ]
     },
     "metadata": {},
     "output_type": "display_data"
    },
    {
     "name": "stderr",
     "output_type": "stream",
     "text": [
      "/var/folders/z6/m56_lfz55xlcdsxdv60z5q340000gn/T/ipykernel_44279/1387579792.py:38: DeprecationWarning: on_submit is deprecated. Instead, set the .continuous_update attribute to False and observe the value changing with: mywidget.observe(callback, 'value').\n",
      "  text_box.on_submit(handle_submit)\n"
     ]
    }
   ],
   "source": [
    "import ipywidgets as widgets\n",
    "from IPython.display import display\n",
    "\n",
    "out = widgets.Output(layout=widgets.Layout(border='1px solid black', height='400px', overflow='auto'))\n",
    "display(out)\n",
    "\n",
    "text_box = widgets.Text(\n",
    "    placeholder='Type your question...',\n",
    "    description='User:',\n",
    "    layout=widgets.Layout(width=\"80%\")\n",
    ")\n",
    "display(text_box)\n",
    "\n",
    "def stream_graph_updates(user_input: str):\n",
    "    for event in graph.stream({\"messages\": [{\"role\": \"user\", \"content\": user_input}]}):\n",
    "        for value in event.values():\n",
    "            assistant_message = value[\"messages\"][-1].content\n",
    "            with out:\n",
    "                print(\"Assistant:\", assistant_message)\n",
    "            append_message_log(\"Assistant\", assistant_message)\n",
    "\n",
    "def handle_submit(sender):\n",
    "    user_input = text_box.value.strip()\n",
    "    text_box.value = \"\"\n",
    "    \n",
    "    if user_input.lower() in [\"quit\", \"exit\", \"q\"]:\n",
    "        with out:\n",
    "            print(\"System: Chat ended.\")\n",
    "        text_box.disabled = True\n",
    "        append_message_log(\"System\", \"Chat ended\")\n",
    "        return\n",
    "    \n",
    "    with out:\n",
    "        print(\"User:\", user_input)\n",
    "    append_message_log(\"User\", user_input)\n",
    "    stream_graph_updates(user_input)\n",
    "\n",
    "text_box.on_submit(handle_submit)\n"
   ]
  },
  {
   "cell_type": "code",
   "execution_count": null,
   "id": "7fe6b197",
   "metadata": {},
   "outputs": [],
   "source": []
  }
 ],
 "metadata": {
  "kernelspec": {
   "display_name": "venv",
   "language": "python",
   "name": "python3"
  },
  "language_info": {
   "codemirror_mode": {
    "name": "ipython",
    "version": 3
   },
   "file_extension": ".py",
   "mimetype": "text/x-python",
   "name": "python",
   "nbconvert_exporter": "python",
   "pygments_lexer": "ipython3",
   "version": "3.12.5"
  }
 },
 "nbformat": 4,
 "nbformat_minor": 5
}
